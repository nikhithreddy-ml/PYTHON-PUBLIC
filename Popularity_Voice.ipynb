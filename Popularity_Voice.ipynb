{
 "cells": [
  {
   "cell_type": "code",
   "execution_count": 1,
   "id": "ea034cb7",
   "metadata": {},
   "outputs": [],
   "source": [
    "import spacy\n",
    "import pandas as pd\n",
    "import matplotlib.pyplot as plt\n",
    "import en_core_web_sm\n",
    "from gensim.parsing.preprocessing import remove_stopwords\n",
    "from GoogleNews import GoogleNews\n",
    "from newspaper import Article\n",
    "import yfinance as yf\n",
    "\n",
    "import speech_recognition as sr\n",
    "import pyttsx3\n",
    "\n",
    "from selenium import webdriver\n",
    "from selenium.webdriver.common.keys import Keys\n",
    "from selenium.webdriver.common.by import By\n",
    "\n",
    "nlp=spacy.load(\"en_core_web_sm\")\n",
    "gnews= GoogleNews(period='Id')"
   ]
  },
  {
   "cell_type": "code",
   "execution_count": 19,
   "id": "b69a9bb4",
   "metadata": {},
   "outputs": [],
   "source": [
    "def listToString(s):\n",
    "    str1 = \" \"\n",
    "    return (str1.join(s))\n",
    "\n",
    "def read_text_file(file_path):\n",
    "    with open(file_path, 'r') as f:\n",
    "        f=(f.read())\n",
    "        stop_words.append(f)\n",
    "\n",
    "r= sr.Recognizer()\n",
    "def SpeakText(command):\n",
    "    eng= pyttsx3.init()\n",
    "    eng.say(command)\n",
    "    eng.runAndWait()"
   ]
  },
  {
   "cell_type": "code",
   "execution_count": 20,
   "id": "b861b187",
   "metadata": {},
   "outputs": [],
   "source": [
    "data=[]"
   ]
  },
  {
   "cell_type": "code",
   "execution_count": 21,
   "id": "b14192d7",
   "metadata": {},
   "outputs": [],
   "source": [
    "import os\n",
    "path = r\"D:\\df\\black\\StopWords\"\n",
    "os.chdir(path)\n",
    "stop_words=[]\n",
    "\n",
    "\n",
    "for file in os.listdir():\n",
    "    if file.endswith(\".txt\"):\n",
    "        file_path = f\"{path}\\{file}\"\n",
    "        read_text_file(file_path)\n",
    "\n",
    "stop = []\n",
    "\n",
    "result_1 = [item.split('\\n') for item in stop_words]\n",
    "result_2 = [item for l in result_1 for item in l]\n",
    "\n",
    "result_3 = [item.split('|') for item in result_2]\n",
    "result_4= [item for l in result_3 for item in l]\n",
    "\n",
    "result_5 = [item.split(' ') for item in result_4]\n",
    "result_6= [item for l in result_5 for item in l]\n",
    "\n",
    "result_7=[item.split(\" '' \") for item in result_6]\n",
    "result_8= [item for l in result_7 for item in l]\n",
    "\n",
    "for ele in result_8:\n",
    "    if ele.strip():\n",
    "        stop.append(ele)"
   ]
  },
  {
   "cell_type": "code",
   "execution_count": 31,
   "id": "fad2de24",
   "metadata": {},
   "outputs": [
    {
     "name": "stdout",
     "output_type": "stream",
     "text": [
      "adani power\n"
     ]
    }
   ],
   "source": [
    "with sr.Microphone() as source2:\n",
    "    r.adjust_for_ambient_noise(source2)\n",
    "    SpeakText(\"say the company name loud\")\n",
    "    audio=r.listen(source2)\n",
    "    Mytext=r.recognize_google(audio)\n",
    "    Mytext=Mytext.lower()\n",
    "    print(Mytext)"
   ]
  },
  {
   "cell_type": "code",
   "execution_count": 32,
   "id": "06b37da2",
   "metadata": {},
   "outputs": [],
   "source": [
    "gnews.search(Mytext)\n",
    "result= gnews.result()\n",
    "news= pd.DataFrame.from_dict(result)\n",
    "for i in range(len(news.desc)):\n",
    "    data.append(news.desc[i])\n",
    "for i in range(len(news.title)):\n",
    "    data.append(news.title[i])\n",
    "article=[]\n",
    "flag=0\n",
    "for i in news.index:\n",
    "        article.append(Article(news['link'][i]))\n",
    "        try:\n",
    "            article[i].download()\n",
    "        except ArticleException:\n",
    "            pass\n",
    "        \n",
    "for i in range(len(article)):\n",
    "    data.append(article[i].text)"
   ]
  },
  {
   "cell_type": "code",
   "execution_count": 33,
   "id": "ddfecf22",
   "metadata": {},
   "outputs": [],
   "source": [
    "Data=[]\n",
    "a=listToString(data)\n",
    "a= remove_stopwords(a)\n",
    "a=nlp(a)\n",
    "for token in a:\n",
    "    Data.append(token.lemma_)"
   ]
  },
  {
   "cell_type": "code",
   "execution_count": 34,
   "id": "d1f811f0",
   "metadata": {},
   "outputs": [],
   "source": [
    "for i in stop[:]:\n",
    "    if i in Data:\n",
    "        Data.remove(i)"
   ]
  },
  {
   "cell_type": "code",
   "execution_count": 35,
   "id": "6ee8e403",
   "metadata": {},
   "outputs": [],
   "source": [
    "positive=[]\n",
    "f=open(r\"D:\\df\\black\\MasterDictionary\\positive-words.txt\")\n",
    "f=(f.read())\n",
    "\n",
    "f=f.strip().replace('\\n', ' ')\n",
    "\n",
    "for stra in f.split():\n",
    "    positive.append(stra)\n",
    "\n",
    "negative=[]\n",
    "f=open(r\"D:\\df\\black\\MasterDictionary\\negative-words.txt\")\n",
    "f=(f.read())\n",
    "\n",
    "f=f.strip().replace('\\n', ' ')\n",
    "\n",
    "for stra in f.split():\n",
    "    negative.append(stra)"
   ]
  },
  {
   "cell_type": "code",
   "execution_count": 36,
   "id": "ca42ebeb",
   "metadata": {},
   "outputs": [],
   "source": [
    "k=0\n",
    "m=0\n",
    "for i in Data:\n",
    "    for j in positive:\n",
    "        if i==j:\n",
    "            k+=1\n",
    "    for l in negative:\n",
    "        if i==l:\n",
    "            m+=1"
   ]
  },
  {
   "cell_type": "code",
   "execution_count": 37,
   "id": "988a2fe9",
   "metadata": {},
   "outputs": [],
   "source": [
    "pop=(((k-m)/(k+m))+0.000001)*100\n",
    "sub=((k+m)/(len(Data)+0.000001))*100\n",
    "neg=(m/(k+m))*100\n",
    "pos=(k/(k+m))*100"
   ]
  },
  {
   "cell_type": "code",
   "execution_count": null,
   "id": "c10cde5f",
   "metadata": {},
   "outputs": [],
   "source": []
  },
  {
   "cell_type": "code",
   "execution_count": 38,
   "id": "a17c793d",
   "metadata": {},
   "outputs": [],
   "source": [
    "if pos>2*neg:\n",
    "    SpeakText(\"it is recommended to proceed with\"+ Mytext)\n",
    "else:\n",
    "    SpeakText(\"it is advised not to invest for today\")"
   ]
  },
  {
   "cell_type": "code",
   "execution_count": 39,
   "id": "de8c4723",
   "metadata": {},
   "outputs": [
    {
     "name": "stderr",
     "output_type": "stream",
     "text": [
      "C:\\Users\\nikhith reddy\\AppData\\Local\\Temp\\ipykernel_8888\\5524903.py:1: DeprecationWarning: executable_path has been deprecated, please pass in a Service object\n",
      "  driver=webdriver.Chrome(executable_path=r\"C:\\Users\\nikhith reddy\\Downloads\\chromedriver_win32\\chromedriver.exe\")\n"
     ]
    }
   ],
   "source": [
    "driver=webdriver.Chrome(executable_path=r\"C:\\Users\\nikhith reddy\\Downloads\\chromedriver_win32\\chromedriver.exe\")\n",
    "driver.maximize_window()\n",
    "driver.get(\"https://groww.in/stocks\")\n",
    "ele1=driver.find_element(By.XPATH,\"/html/body/div/div/div[1]/div[1]/div[1]/div[2]/div/span\")\n",
    "ele1.click()\n",
    "\n",
    "ele2=driver.find_element(By.ID,\"globalSearch23\")\n",
    "ele2.send_keys(Mytext)\n",
    "ele2.send_keys(Keys.ARROW_DOWN)\n",
    "ele2.send_keys(Keys.ARROW_UP)\n",
    "\n",
    "ele2.send_keys(Keys.ENTER)\n"
   ]
  },
  {
   "cell_type": "code",
   "execution_count": null,
   "id": "bbf0f2f1",
   "metadata": {},
   "outputs": [],
   "source": []
  }
 ],
 "metadata": {
  "kernelspec": {
   "display_name": "Python 3 (ipykernel)",
   "language": "python",
   "name": "python3"
  },
  "language_info": {
   "codemirror_mode": {
    "name": "ipython",
    "version": 3
   },
   "file_extension": ".py",
   "mimetype": "text/x-python",
   "name": "python",
   "nbconvert_exporter": "python",
   "pygments_lexer": "ipython3",
   "version": "3.9.12"
  }
 },
 "nbformat": 4,
 "nbformat_minor": 5
}
